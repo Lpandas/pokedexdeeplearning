{
  "nbformat": 4,
  "nbformat_minor": 0,
  "metadata": {
    "colab": {
      "name": "PokedexfromScratch.ipynb",
      "provenance": [],
      "private_outputs": true,
      "mount_file_id": "17P2CAiJavHOTU9_4rwvD9ng9RI15gyL1",
      "authorship_tag": "ABX9TyPXrg2mOCe9H0p3IX6bQjsl"
    },
    "kernelspec": {
      "name": "python3",
      "display_name": "Python 3"
    },
    "accelerator": "GPU"
  },
  "cells": [
    {
      "cell_type": "markdown",
      "metadata": {
        "id": "EWdnRpZBhlBF",
        "colab_type": "text"
      },
      "source": [
        "Mounting google drive"
      ]
    },
    {
      "cell_type": "code",
      "metadata": {
        "id": "dWyvGP380eRo",
        "colab_type": "code",
        "colab": {}
      },
      "source": [
        "from google.colab import drive\n",
        "drive.mount('/content/gdrive/')"
      ],
      "execution_count": null,
      "outputs": []
    },
    {
      "cell_type": "markdown",
      "metadata": {
        "id": "vtF3MhdJbs0E",
        "colab_type": "text"
      },
      "source": [
        "import libraries"
      ]
    },
    {
      "cell_type": "code",
      "metadata": {
        "id": "KpQj3Ft-bm7p",
        "colab_type": "code",
        "colab": {}
      },
      "source": [
        "import os\n",
        "import cv2\n",
        "import numpy as np\n",
        "import matplotlib.pyplot as plt\n",
        "import tensorflow as tf\n",
        "from tensorflow import keras\n",
        "\n",
        "from sklearn.utils import shuffle\n",
        "from sklearn.model_selection import train_test_split # replace old code from sklearn.cross_validation import train_test_split\n",
        "\n",
        "from keras import backend as K\n",
        "keras.backend.image_data_format()# replace old code K.set_image_dim_ordering('tf')\n",
        "\n",
        "from keras.utils import np_utils\n",
        "from keras.models import Sequential\n",
        "from keras.layers import GlobalAveragePooling2D, Lambda, Conv2D, MaxPooling2D, Dropout, Dense, Flatten, Activation, BatchNormalization\n",
        "from keras.optimizers import SGD, RMSprop, Adam"
      ],
      "execution_count": null,
      "outputs": []
    },
    {
      "cell_type": "markdown",
      "metadata": {
        "id": "sqd7dmnOiLOe",
        "colab_type": "text"
      },
      "source": [
        "Define path and data"
      ]
    },
    {
      "cell_type": "code",
      "metadata": {
        "id": "eh80SiVXiKpJ",
        "colab_type": "code",
        "colab": {}
      },
      "source": [
        "PATH = \"/content/gdrive/My Drive/Pokemonk\" \n",
        "print(PATH)\n",
        "data_path = PATH + '/dataset'\n",
        "data_dir_list = os.listdir(data_path)"
      ],
      "execution_count": null,
      "outputs": []
    },
    {
      "cell_type": "markdown",
      "metadata": {
        "id": "3w2Mlixbi8AE",
        "colab_type": "text"
      },
      "source": [
        "Load image data and resize to 128x128 size, gray scale, i.e. one channel"
      ]
    },
    {
      "cell_type": "code",
      "metadata": {
        "id": "wNm5iyvCi8w1",
        "colab_type": "code",
        "colab": {}
      },
      "source": [
        "img_rows = 128\n",
        "img_cols = 128\n",
        "num_channel = 1\n",
        "\n",
        "img_data_list = []\n",
        "\n",
        "for dataset in data_dir_list:\n",
        "    img_list = os.listdir(data_path + '/' + dataset)\n",
        "    print('Loaded the images of dataset-' + '{}\\n'.format(dataset))\n",
        "    for img in img_list:\n",
        "        input_img = cv2.imread(data_path + '/' + dataset + '/' + img)# image is in jpg or png format\n",
        "        input_img = cv2.cvtColor(input_img, cv2.COLOR_BGR2GRAY)\n",
        "        input_img_resize = cv2.resize(input_img, (128, 128))\n",
        "        img_data_list.append(input_img_resize)\n",
        "\n",
        "img_data = np.array(img_data_list)\n",
        "img_data = img_data.astype('float32')\n",
        "img_data /= 255\n",
        "print(img_data.shape)"
      ],
      "execution_count": null,
      "outputs": []
    },
    {
      "cell_type": "markdown",
      "metadata": {
        "id": "0E8Ke0VolIXZ",
        "colab_type": "text"
      },
      "source": [
        "show image data shape"
      ]
    },
    {
      "cell_type": "code",
      "metadata": {
        "id": "0B73gsNAlJDN",
        "colab_type": "code",
        "colab": {}
      },
      "source": [
        "if num_channel == 1:\n",
        "    if K.image_data_format() == 'th':\n",
        "        img_data = np.expand_dims(img_data, axis=1)\n",
        "        print(img_data.shape)\n",
        "    else:\n",
        "        img_data = np.expand_dims(img_data, axis=3)# axis was 4(cause error) before change to 3\n",
        "        print(img_data.shape)\n",
        "\n",
        "else:\n",
        "    if K.image_data_format() == 'th':\n",
        "        img_data = np.rollaxis(img_data, 3, 1)\n",
        "        print(img_data.shape)\n",
        "# K was defined in loading libraries for Image_data_format"
      ],
      "execution_count": null,
      "outputs": []
    },
    {
      "cell_type": "markdown",
      "metadata": {
        "id": "_4vws3RZn4kk",
        "colab_type": "text"
      },
      "source": [
        "Label of 5 classes of pokemon "
      ]
    },
    {
      "cell_type": "code",
      "metadata": {
        "id": "ayQx1KtDn5SL",
        "colab_type": "code",
        "colab": {}
      },
      "source": [
        "num_classes = 5\n",
        "\n",
        "num_of_samples = img_data.shape[0]\n",
        "labels = np.ones((num_of_samples,), dtype='int64')\n",
        "\n",
        "labels[0:233] = 0\n",
        "labels[233:472] = 1\n",
        "labels[472:711] = 2\n",
        "labels[711:946] = 3\n",
        "labels[946:1170] = 4\n",
        "\n",
        "names = ['bulbasaur', 'charmander', 'mewtwo', 'pikachu', 'squirtle']\n",
        "\n",
        "Y = np_utils.to_categorical(labels, num_classes)"
      ],
      "execution_count": null,
      "outputs": []
    },
    {
      "cell_type": "markdown",
      "metadata": {
        "id": "Po_pFakBoVId",
        "colab_type": "text"
      },
      "source": [
        "Image shuffle, Train test(validation) split and data augmentation"
      ]
    },
    {
      "cell_type": "code",
      "metadata": {
        "id": "lcLdx2T9Mr2R",
        "colab_type": "code",
        "colab": {}
      },
      "source": [
        "from tensorflow.keras.preprocessing.image import ImageDataGenerator"
      ],
      "execution_count": null,
      "outputs": []
    },
    {
      "cell_type": "code",
      "metadata": {
        "id": "yfCURfbpoVsi",
        "colab_type": "code",
        "colab": {}
      },
      "source": [
        "x, y = shuffle(img_data, Y, random_state=2)\n",
        "X_train, X_test, y_train, y_test = train_test_split(\n",
        "    x, y, test_size=0.2, random_state=4)  # can change the test_size\n",
        "\n",
        "# data augmentation\n",
        "aug=ImageDataGenerator(rotation_range=25, \n",
        "                       width_shift_range=0.1, \n",
        "                       height_shift_range=0.1, shear_range=0.2, \n",
        "                       zoom_range=0.2, horizontal_flip=True, fill_mode=\"nearest\")\n",
        "\n",
        "input_shape = img_data[0].shape\n",
        "print(input_shape) # make sure it is (128, 128, 1), sometimes not stable in google colab"
      ],
      "execution_count": null,
      "outputs": []
    },
    {
      "cell_type": "markdown",
      "metadata": {
        "id": "A6_ZQEUbopho",
        "colab_type": "text"
      },
      "source": [
        "Build a sequential CNN model; met problem: AttributeError: module 'tensorflow._api.v2.config' has no attribute 'experimental_list_devices'\n",
        "Solution: "
      ]
    },
    {
      "cell_type": "code",
      "metadata": {
        "id": "5Rgqtafsoq8P",
        "colab_type": "code",
        "colab": {}
      },
      "source": [
        "model = Sequential()\n",
        "\n",
        "model.add(Conv2D(32, (3, 3), padding=\"same\", input_shape=input_shape))\n",
        "model.add(Activation(\"relu\"))\n",
        "model.add(BatchNormalization(axis=-1))\n",
        "model.add(MaxPooling2D(pool_size=(3, 3)))\n",
        "model.add(Dropout(0.25))\n",
        "\n",
        "model.add(Conv2D(64, (3, 3), padding=\"same\"))\n",
        "model.add(Activation(\"relu\"))\n",
        "model.add(BatchNormalization(axis=-1))\n",
        "model.add(Conv2D(64, (3, 3), padding=\"same\"))\n",
        "model.add(Activation(\"relu\"))\n",
        "model.add(BatchNormalization(axis=-1)) # was axis=1\n",
        "model.add(MaxPooling2D(pool_size=(2, 2)))\n",
        "model.add(Dropout(0.25))\n",
        "\n",
        "model.add(Conv2D(128, (3, 3), padding=\"same\"))\n",
        "model.add(Activation(\"relu\"))\n",
        "model.add(BatchNormalization(axis=-1))\n",
        "model.add(Conv2D(128, (3, 3), padding=\"same\"))\n",
        "model.add(Activation(\"relu\"))\n",
        "model.add(BatchNormalization(axis=-1))\n",
        "model.add(MaxPooling2D(pool_size=(2, 2)))\n",
        "model.add(Dropout(0.25))\n",
        "\n",
        "model.add(Flatten())\n",
        "model.add(Dense(1024))\n",
        "model.add(Activation(\"relu\"))\n",
        "model.add(BatchNormalization())\n",
        "model.add(Dropout(0.5))\n",
        "\n",
        "# softmax classifier\n",
        "model.add(Dense(5))  # Last Dense input is used to specify the number of classes to predict\n",
        "model.add(Activation(\"softmax\"))\n",
        "\n",
        "model.compile(Adam(lr=0.0001), loss='categorical_crossentropy', metrics=[\"accuracy\"])"
      ],
      "execution_count": null,
      "outputs": []
    },
    {
      "cell_type": "markdown",
      "metadata": {
        "id": "Yvr6kt9XspXy",
        "colab_type": "text"
      },
      "source": [
        "Summary of the model"
      ]
    },
    {
      "cell_type": "code",
      "metadata": {
        "id": "P3x24O72sl3S",
        "colab_type": "code",
        "colab": {}
      },
      "source": [
        "model.summary()"
      ],
      "execution_count": null,
      "outputs": []
    },
    {
      "cell_type": "markdown",
      "metadata": {
        "id": "WGPx_cHks1UW",
        "colab_type": "text"
      },
      "source": [
        "show the training; it works once the model step above works"
      ]
    },
    {
      "cell_type": "code",
      "metadata": {
        "id": "eJbvyWedtPe4",
        "colab_type": "code",
        "colab": {}
      },
      "source": [
        "# cite \"aug\" use data augmentation in model training\n",
        "hist = model.fit(x=aug.flow(X_train, y_train, batch_size=32), epochs=40,\n",
        "                 verbose=1, validation_data=(X_test, y_test))\n"
      ],
      "execution_count": null,
      "outputs": []
    },
    {
      "cell_type": "markdown",
      "metadata": {
        "id": "qcmJksE2tV50",
        "colab_type": "text"
      },
      "source": [
        "Plot the accuracy and loss"
      ]
    },
    {
      "cell_type": "code",
      "metadata": {
        "id": "FTIkcxaztrpN",
        "colab_type": "code",
        "colab": {}
      },
      "source": [
        "train_loss = hist.history['loss']\n",
        "val_loss = hist.history['val_loss']\n",
        "train_acc = hist.history['accuracy']\n",
        "val_acc = hist.history['val_accuracy']\n",
        "xc = range(40) # range(number of epochs)\n",
        "\n",
        "plt.figure(1, figsize=(7, 5))\n",
        "plt.plot(xc, train_loss)\n",
        "plt.plot(xc, val_loss)\n",
        "plt.xlabel('num of Epochs')\n",
        "plt.ylabel('loss')\n",
        "plt.title('train_loss vs val_loss')\n",
        "plt.grid(True)\n",
        "plt.legend(['train', 'val'])\n",
        "# print plt.style.available # use bmh, classic,ggplot for big pictures\n",
        "plt.style.use(['classic'])\n",
        "plt.savefig('trial_psi_loss.png', bbox_inches='tight')\n",
        "\n",
        "plt.figure(2, figsize=(7, 5))\n",
        "plt.plot(xc, train_acc)\n",
        "plt.plot(xc, val_acc)\n",
        "plt.xlabel('num of Epochs')\n",
        "plt.ylabel('accuracy')\n",
        "plt.title('train_acc vs val_acc')\n",
        "plt.grid(True)\n",
        "plt.legend(['train', 'val'], loc=4)\n",
        "# print plt.style.available # use bmh, classic,ggplot for big pictures\n",
        "plt.style.use(['classic'])\n",
        "plt.savefig('trial_psi_acc.png', bbox_inches='tight')\n",
        "\n",
        "# evaluate score\n",
        "score = model.evaluate(X_test, y_test, verbose=0)\n",
        "print('Test Loss:', score[0])\n",
        "print('Test accuracy:', score[1])  # validation accuracy\n"
      ],
      "execution_count": null,
      "outputs": []
    },
    {
      "cell_type": "markdown",
      "metadata": {
        "id": "gUHNpJMR6Rvs",
        "colab_type": "text"
      },
      "source": [
        "Plot the Confusion Matrix for validation data(X_test, y_test)"
      ]
    },
    {
      "cell_type": "code",
      "metadata": {
        "id": "mF8RRCtXKgrF",
        "colab_type": "code",
        "colab": {}
      },
      "source": [
        "# y_test[1] need round up\n",
        "y_testnew=np.argmax(y_test, axis=1)\n",
        "y_testnew[1]\n"
      ],
      "execution_count": null,
      "outputs": []
    },
    {
      "cell_type": "code",
      "metadata": {
        "id": "-YBkMsUJ8H9m",
        "colab_type": "code",
        "colab": {}
      },
      "source": [
        "# define the data to be ploted in confusion matrix(cm), here we use validation data\n",
        "predicted_classes=model.predict_classes(X_test)\n",
        "predicted_classes[1]"
      ],
      "execution_count": null,
      "outputs": []
    },
    {
      "cell_type": "code",
      "metadata": {
        "id": "_6SsdHsD6VQR",
        "colab_type": "code",
        "colab": {}
      },
      "source": [
        "# import libraries and define cm(confusion matrix)\n",
        "from sklearn import metrics\n",
        "from sklearn.metrics import confusion_matrix\n",
        "cm = metrics.confusion_matrix(y_testnew, predicted_classes)\n"
      ],
      "execution_count": null,
      "outputs": []
    },
    {
      "cell_type": "markdown",
      "metadata": {
        "id": "m6LO4R9N7NXw",
        "colab_type": "text"
      },
      "source": [
        "Define a function to plot the confusion matrix"
      ]
    },
    {
      "cell_type": "code",
      "metadata": {
        "id": "a94NpbkX7Qdn",
        "colab_type": "code",
        "colab": {}
      },
      "source": [
        "#Defining function for confusion matrix plot\n",
        "def plot_confusion_matrix(y_true, y_pred, classes,\n",
        "                          normalize=False,\n",
        "                          title=None,\n",
        "                          cmap=plt.cm.Blues):\n",
        "    if not title:\n",
        "        if normalize:\n",
        "            title = 'Normalized confusion matrix'\n",
        "        else:\n",
        "            title = 'Confusion matrix, without normalization'\n",
        "\n",
        "    # Computing confusion matrix\n",
        "    cm = confusion_matrix(y_true, y_pred)\n",
        "    if normalize:\n",
        "        cm = cm.astype('float') / cm.sum(axis=1)[:, np.newaxis]\n",
        "        print(\"Normalized confusion matrix\")\n",
        "    else:\n",
        "        print('Confusion matrix, without normalization')\n",
        "\n",
        "# Visualizing\n",
        "    fig, ax = plt.subplots(figsize=(10, 10))\n",
        "    im = ax.imshow(cm, interpolation='nearest', cmap=cmap)\n",
        "    ax.figure.colorbar(im, ax=ax)\n",
        "    # We want to show all ticks...\n",
        "    ax.set(xticks=np.arange(cm.shape[1]),\n",
        "           yticks=np.arange(cm.shape[0]),\n",
        "           xticklabels=classes, yticklabels=classes,\n",
        "           title=title,\n",
        "           ylabel='True label',\n",
        "           xlabel='Predicted label')\n",
        "\n",
        "   # Rotating the tick labels and setting their alignment.\n",
        "    plt.setp(ax.get_xticklabels(), rotation=45, ha=\"right\",\n",
        "             rotation_mode=\"anchor\")\n",
        "    # Looping over data dimensions and create text annotations.\n",
        "    fmt = '.2f' if normalize else 'd'\n",
        "    thresh = cm.max() / 2.\n",
        "    for i in range(cm.shape[0]):\n",
        "        for j in range(cm.shape[1]):\n",
        "            ax.text(j, i, format(cm[i, j], fmt),\n",
        "                    ha=\"center\", va=\"center\",\n",
        "                    color=\"white\" if cm[i, j] > thresh else \"black\")\n",
        "    fig.tight_layout()\n",
        "    return ax\n",
        "np.set_printoptions(precision=2)\n"
      ],
      "execution_count": null,
      "outputs": []
    },
    {
      "cell_type": "markdown",
      "metadata": {
        "id": "DK_APAR49v2W",
        "colab_type": "text"
      },
      "source": [
        "Specify an index of pokemon in displayed confusion matrix, i.e. class_names"
      ]
    },
    {
      "cell_type": "code",
      "metadata": {
        "id": "RzoTKgkV970f",
        "colab_type": "code",
        "colab": {}
      },
      "source": [
        "class_names= names\n",
        "# as it was defined earlier in this program, names = ['bulbasaur', 'charmander', 'mewtwo', 'pikachu', 'squirtle']"
      ],
      "execution_count": null,
      "outputs": []
    },
    {
      "cell_type": "markdown",
      "metadata": {
        "id": "GOFTK83K-Aws",
        "colab_type": "text"
      },
      "source": [
        "Plot non-nomalized cm"
      ]
    },
    {
      "cell_type": "code",
      "metadata": {
        "id": "vqNjXsyr-E_d",
        "colab_type": "code",
        "colab": {}
      },
      "source": [
        "#Non-Normalized Confusion Matrix\n",
        "plt.figure(figsize=(20,20))\n",
        "plot_confusion_matrix(y_testnew, predicted_classes, classes = class_names, title='Non-Normalized Confusion matrix')\n",
        "plt.show()\n"
      ],
      "execution_count": null,
      "outputs": []
    },
    {
      "cell_type": "markdown",
      "metadata": {
        "id": "6ZqpaVi1-Fa1",
        "colab_type": "text"
      },
      "source": [
        "Plot normalized cm"
      ]
    },
    {
      "cell_type": "code",
      "metadata": {
        "id": "SF5OQ7fV-Lap",
        "colab_type": "code",
        "colab": {}
      },
      "source": [
        "#Normalized Confusion Matrix\n",
        "plt.figure(figsize=(35,35))\n",
        "plot_confusion_matrix(y_testnew, predicted_classes, classes = class_names, normalize=True, title='Non-Normalized Confusion matrix')\n",
        "plt.show()\n"
      ],
      "execution_count": null,
      "outputs": []
    },
    {
      "cell_type": "markdown",
      "metadata": {
        "id": "5wutjTGIt9Yn",
        "colab_type": "text"
      },
      "source": [
        "save the model"
      ]
    },
    {
      "cell_type": "code",
      "metadata": {
        "id": "FIlBemLTt_Lg",
        "colab_type": "code",
        "colab": {}
      },
      "source": [
        "model.save('/content/gdrive/My Drive/Pokemonk/Poke_modelk.h5')  # save your model with h5py"
      ],
      "execution_count": null,
      "outputs": []
    }
  ]
}